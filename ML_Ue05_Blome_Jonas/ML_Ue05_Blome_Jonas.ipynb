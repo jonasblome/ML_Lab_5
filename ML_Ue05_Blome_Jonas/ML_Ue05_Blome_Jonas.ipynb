{
 "cells": [
  {
   "cell_type": "code",
   "execution_count": 2,
   "id": "7cce7c17",
   "metadata": {
    "scrolled": false
   },
   "outputs": [
    {
     "name": "stdout",
     "output_type": "stream",
     "text": [
      "Final RMSE 0: 6.784655900956583\n",
      "Final RMSE 1: 5.280966463019373\n",
      "Final RMSE 2: 4.374548130888627\n",
      "Final RMSE 3: 43.382439659018644\n"
     ]
    },
    {
     "data": {
      "text/plain": [
       "[<matplotlib.lines.Line2D at 0x1087d5330>]"
      ]
     },
     "execution_count": 2,
     "metadata": {},
     "output_type": "execute_result"
    },
    {
     "data": {
      "image/png": "[encoded data removed]",
      "text/plain": [
       "<Figure size 640x480 with 1 Axes>"
      ]
     },
     "metadata": {},
     "output_type": "display_data"
    }
   ],
   "source": [
    "# Introduction: \n",
    "#\n",
    "# This is the second part of the exercise \"gradient descent\".\n",
    "# Last time, we used the evolution strategy to find appropriate\n",
    "# coefficient values for a function that can predict the fuel consumption of cars.\n",
    "# Since the evolution strategy randomly modifies the coefficients,\n",
    "# it can take a long time to find a good configuration\n",
    "#\n",
    "#\n",
    "# Problem definition:\n",
    "#\n",
    "# Exchange the evolution strategy with the linear regression.\n",
    "# Remember, all theta values of the regression model must be changed at the same time during training.\n",
    "#\n",
    "# Sometimes gradient descent gets stuck in a local minima.\n",
    "# A good indicator is the sum of absolute changes applied to the theta values,\n",
    "# if the sum is quite small the gradient at this configuration is flat\n",
    "# and only small progress is made. Increase the learning rate\n",
    "# or repeat the test with different initial theta values to circumvent this problem.\n",
    "# Remember the overall smallest RMSE and the corresponding theta values.\n",
    "#\n",
    "# Create four error curves by calculating and memorizing the RMSE\n",
    "# for every epoch/iteration. Repeat the test with different\n",
    "# learning rates (alpha = 0.01; 0.1; 1.0; 2.0).\n",
    "# Always start with the same theta values by using a seeded random generator\n",
    "# np.random.seed(7); \n",
    "# theta = np.random.rand(rows, columns);.\n",
    "# Store and output the best RMSE for each curve.\n",
    "# Train for 100 iterations.\n",
    "\n",
    "import matplotlib.pyplot as plt\n",
    "import math\n",
    "import numpy as np\n",
    "import random\n",
    "\n",
    "# Enable inline plotting\n",
    "%matplotlib inline\n",
    "\n",
    "# Import the CSV file\n",
    "cars = np.genfromtxt(\"cars.csv\", delimiter=\",\", skip_header=True)\n",
    "\n",
    "# Remove car names column from data\n",
    "cars = np.delete(cars, 0, 1)\n",
    "\n",
    "# Amount of datapoints per and iterations per learning curve\n",
    "numDatapoints = len(cars[:, 0])\n",
    "numIterations = 1000\n",
    "\n",
    "# RMSE storage array\n",
    "rmseValues = [[None] * numIterations, [None] * numIterations, [None] * numIterations, [None] * numIterations]\n",
    "\n",
    "# Store max and min values of cars columns for denormalization\n",
    "maxValues = np.amax(cars[:,0:7], 0)\n",
    "minValues = np.amin(cars[:,0:7], 0)\n",
    "\n",
    "# Normalize data in car matrix\n",
    "normalizedData = (cars - minValues) / (maxValues - minValues)\n",
    "\n",
    "# Approximate relation with weighted function\n",
    "xValueMatrix = np.delete(normalizedData, 6, 1)\n",
    "\n",
    "# Alpha value\n",
    "learningRates = [0.01, 0.1, 1.0, 2.0]\n",
    "\n",
    "# Create four different learning curves\n",
    "for lc in range(len(learningRates)):\n",
    "    # Set random seed\n",
    "    np.random.seed(5)\n",
    "    \n",
    "    # Set initial theta values\n",
    "    bestRmse = 10000\n",
    "    thetaValues = np.random.rand(6, 1)\n",
    "    bestTheta = []\n",
    "\n",
    "    # Try multiple iterations to find best theta values\n",
    "    for it in range(numIterations):\n",
    "        # Calculate approximated mpg values with weighted function (hypothesis function)\n",
    "        hypothesis = np.matmul(xValueMatrix, thetaValues)\n",
    "        hypothesis = np.squeeze(hypothesis)\n",
    "\n",
    "        # Calculate disparity\n",
    "        disparity = hypothesis - normalizedData[:, 6]\n",
    "\n",
    "        # Calculate theta-delta values and update them\n",
    "        thetaDelta = np.matmul(np.transpose(xValueMatrix), disparity)\n",
    "        thetaDelta = np.squeeze(thetaDelta)\n",
    "        normalizedThetaDelta = thetaDelta * (learningRates[lc] / numDatapoints)\n",
    "        newThetaValues = np.squeeze(thetaValues) - normalizedThetaDelta\n",
    "        thetaValues = newThetaValues\n",
    "\n",
    "        # Calculate and output RMSE value\n",
    "        rmse = math.sqrt(np.sum(np.power(((maxValues[6] - minValues[6]) * hypothesis + minValues[6]) - ((maxValues[6] - minValues[6])* normalizedData[:, 6] + minValues[6]), 2)) / numDatapoints)\n",
    "\n",
    "        # Store current RMSE for later display\n",
    "        rmseValues[lc][it] = rmse\n",
    "\n",
    "        # Set new RMSE and Theta if approximation is better\n",
    "        if rmse < bestRmse:\n",
    "            bestRmse = rmse\n",
    "            bestTheta = newThetaValues\n",
    "        \n",
    "    # Print final RMSE value\n",
    "    print(\"Final RMSE {}: {}\".format(lc, bestRmse))\n",
    "\n",
    "\n",
    "# Make best theta values into an array\n",
    "bestTheta = np.squeeze(bestTheta)\n",
    "\n",
    "x = np.arange(0, numIterations, 1)\n",
    "\n",
    "plt.ylim([0, 80])\n",
    "plt.xlim([0, numIterations])\n",
    "\n",
    "plt.plot(x, rmseValues[0], color = \"blue\")\n",
    "plt.plot(x, rmseValues[1], color = \"red\")\n",
    "plt.plot(x, rmseValues[2], color = \"green\")\n",
    "plt.plot(x, rmseValues[3], color = \"yellow\")"
   ]
  },
  {
   "cell_type": "code",
   "execution_count": null,
   "id": "c0bf6145",
   "metadata": {},
   "outputs": [],
   "source": []
  },
  {
   "cell_type": "code",
   "execution_count": null,
   "id": "5d710af2",
   "metadata": {},
   "outputs": [],
   "source": []
  }
 ],
 "metadata": {
  "kernelspec": {
   "display_name": "Python 3 (ipykernel)",
   "language": "python",
   "name": "python3"
  },
  "language_info": {
   "codemirror_mode": {
    "name": "ipython",
    "version": 3
   },
   "file_extension": ".py",
   "mimetype": "text/x-python",
   "name": "python",
   "nbconvert_exporter": "python",
   "pygments_lexer": "ipython3",
   "version": "3.10.4"
  }
 },
 "nbformat": 4,
 "nbformat_minor": 5
}
